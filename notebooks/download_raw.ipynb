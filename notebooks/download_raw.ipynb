{
 "cells": [
  {
   "cell_type": "code",
   "execution_count": 1,
   "id": "adjusted-strap",
   "metadata": {},
   "outputs": [],
   "source": [
    "import io\n",
    "import os\n",
    "import sys\n",
    "import requests\n",
    "import json\n",
    "from urllib.request import urlretrieve\n",
    "import zipfile\n",
    "import pandas as pd"
   ]
  },
  {
   "cell_type": "code",
   "execution_count": 2,
   "id": "outer-permission",
   "metadata": {},
   "outputs": [],
   "source": [
    "raw_data_directory_path = os.path.join(\"..\", \"data\", \"raw\")"
   ]
  },
  {
   "cell_type": "code",
   "execution_count": 3,
   "id": "ignored-forest",
   "metadata": {},
   "outputs": [
    {
     "output_type": "stream",
     "name": "stdout",
     "text": [
      "Downloading... 100%, 776 MB of 776 MB"
     ]
    }
   ],
   "source": [
    "def download_progress(block_num, block_size, total_size):\n",
    "    progress_size = int(block_num * block_size)\n",
    "    percent = int(block_num * block_size * 100 / total_size)\n",
    "    sys.stdout.write(\"\\rDownloading... %d%%, %d MB of %d MB\" %\n",
    "                    (percent, progress_size / (1024 * 1024), total_size / (1024 * 1024)))\n",
    "    sys.stdout.flush()\n",
    "\n",
    "\n",
    "def download_from_figshare(article_id, files_to_dl, output_dir):\n",
    "    url = f\"https://api.figshare.com/v2/articles/{article_id}\"\n",
    "    response = requests.request(\"GET\", url, headers={\"Content-Type\": \"application/json\"})\n",
    "    data = json.loads(response.text)\n",
    "    files = data[\"files\"]\n",
    "    for file in files:\n",
    "        if file[\"name\"] in files_to_dl:\n",
    "            os.makedirs(output_dir, exist_ok=True)\n",
    "            urlretrieve(file[\"download_url\"], os.path.join(output_dir, file[\"name\"]), download_progress)\n",
    "\n",
    "\n",
    "download_from_figshare(\"14096681\", [\"data.zip\"], raw_data_directory_path)"
   ]
  },
  {
   "cell_type": "code",
   "execution_count": 9,
   "metadata": {},
   "outputs": [
    {
     "output_type": "stream",
     "name": "stdout",
     "text": [
      "MPI-ESM-1-2-HAM_daily_rainfall_NSW.csv\n",
      "AWI-ESM-1-1-LR_daily_rainfall_NSW.csv\n",
      "NorESM2-LM_daily_rainfall_NSW.csv\n",
      "ACCESS-CM2_daily_rainfall_NSW.csv\n",
      "FGOALS-f3-L_daily_rainfall_NSW.csv\n",
      "CMCC-CM2-HR4_daily_rainfall_NSW.csv\n",
      "MRI-ESM2-0_daily_rainfall_NSW.csv\n",
      "GFDL-CM4_daily_rainfall_NSW.csv\n",
      "BCC-CSM2-MR_daily_rainfall_NSW.csv\n",
      "EC-Earth3-Veg-LR_daily_rainfall_NSW.csv\n",
      "CMCC-ESM2_daily_rainfall_NSW.csv\n",
      "NESM3_daily_rainfall_NSW.csv\n",
      "MPI-ESM1-2-LR_daily_rainfall_NSW.csv\n",
      "ACCESS-ESM1-5_daily_rainfall_NSW.csv\n",
      "FGOALS-g3_daily_rainfall_NSW.csv\n",
      "INM-CM4-8_daily_rainfall_NSW.csv\n",
      "MPI-ESM1-2-HR_daily_rainfall_NSW.csv\n",
      "TaiESM1_daily_rainfall_NSW.csv\n",
      "NorESM2-MM_daily_rainfall_NSW.csv\n",
      "CMCC-CM2-SR5_daily_rainfall_NSW.csv\n",
      "observed_daily_rainfall_SYD.csv\n",
      "KIOST-ESM_daily_rainfall_NSW.csv\n",
      "INM-CM5-0_daily_rainfall_NSW.csv\n",
      "MIROC6_daily_rainfall_NSW.csv\n",
      "BCC-ESM1_daily_rainfall_NSW.csv\n",
      "GFDL-ESM4_daily_rainfall_NSW.csv\n",
      "CanESM5_daily_rainfall_NSW.csv\n",
      "SAM0-UNICON_daily_rainfall_NSW.csv\n"
     ]
    }
   ],
   "source": [
    "\n",
    "with zipfile.ZipFile(os.path.join(raw_data_directory_path, \"data.zip\"), \"r\") as zf:\n",
    "    file_list = zf.namelist()\n",
    "    # print(file_list)\n",
    "\n",
    "    for f in file_list:\n",
    "        if \"__MACOSX\" not in f:\n",
    "            print(f)\n",
    "            df = pd.read_csv(zf.open(f))\n",
    "            df.to_csv(os.path.join(raw_data_directory_path,f))"
   ]
  },
  {
   "cell_type": "markdown",
   "id": "increasing-palestine",
   "metadata": {},
   "source": [
    "<br/>\n",
    "<br/>\n",
    "\n",
    "**Code below is for testing only**"
   ]
  }
 ],
 "metadata": {
  "kernelspec": {
   "name": "python3",
   "display_name": "Python 3.9.2 64-bit ('525_group10': conda)",
   "metadata": {
    "interpreter": {
     "hash": "4d65a241df4076a6385b7fab0680e2b0db07f88ff7870c00ab83fc1d89e214d3"
    }
   }
  },
  "language_info": {
   "codemirror_mode": {
    "name": "ipython",
    "version": 3
   },
   "file_extension": ".py",
   "mimetype": "text/x-python",
   "name": "python",
   "nbconvert_exporter": "python",
   "pygments_lexer": "ipython3",
   "version": "3.9.2-final"
  }
 },
 "nbformat": 4,
 "nbformat_minor": 5
}